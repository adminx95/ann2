{
 "cells": [
  {
   "cell_type": "code",
   "execution_count": 5,
   "id": "7fab551c-7b42-4574-a5b8-ba3ffb21a097",
   "metadata": {},
   "outputs": [
    {
     "name": "stdout",
     "output_type": "stream",
     "text": [
      "[0 0 0 0 0 0 1 0 0 0] is even\n",
      "[0 0 0 0 0 0 0 1 0 0] is even\n",
      "[0 0 0 0 0 0 0 0 1 0] is even\n",
      "[0 0 0 0 0 0 0 0 0 1] is odd\n",
      "[0 0 0 0 0 0 1 1 0 0] is even\n",
      "[0 0 0 0 0 0 1 0 1 0] is even\n",
      "[0 0 0 0 0 0 1 1 1 0] is even\n",
      "[0 0 0 0 0 0 1 1 1 1] is odd\n",
      "[0 0 0 0 0 0 1 0 1 1] is odd\n",
      "[0 0 0 0 0 0 0 1 1 1] is odd\n"
     ]
    }
   ],
   "source": [
    "import numpy as np\n",
    "\n",
    "# Define the perceptron class\n",
    "class Perceptron:\n",
    "    def __init__(self, input_size=10, lr=0.1):\n",
    "        self.W = np.zeros(input_size + 1)\n",
    "        self.lr = lr\n",
    "\n",
    "    def activation_fn(self, x):\n",
    "        return 1 if x >= 0 else 0\n",
    "\n",
    "    def predict(self, x):\n",
    "        x = np.insert(x, 0, 1)\n",
    "        z = self.W.T.dot(x)\n",
    "        a = self.activation_fn(z)\n",
    "        return a\n",
    "\n",
    "    def train(self, X, Y, epochs):\n",
    "        for _ in range(epochs):\n",
    "            for i in range(Y.shape[0]):\n",
    "                x = X[i]\n",
    "                y = self.predict(x)\n",
    "                e = Y[i] - y\n",
    "                self.W = self.W + self.lr * e * np.insert(x, 0, 1)\n",
    "\n",
    "# Define the input data and labels\n",
    "X = np.array([\n",
    "    [0, 0, 0, 0, 0, 0, 0, 0, 0, 0],  # 0\n",
    "    [0, 0, 0, 0, 0, 0, 0, 0, 0, 1],  # 1\n",
    "    [0, 0, 0, 0, 0, 0, 0, 0, 1, 0],  # 2\n",
    "    [0, 0, 0, 0, 0, 0, 0, 0, 1, 1],  # 3\n",
    "    [0, 0, 0, 0, 0, 0, 0, 1, 0, 0],  # 4\n",
    "    [0, 0, 0, 0, 0, 0, 0, 1, 0, 1],  # 5\n",
    "    [0, 0, 0, 0, 0, 0, 0, 1, 1, 0],  # 6\n",
    "    [0, 0, 0, 0, 0, 0, 0, 1, 1, 1],  # 7\n",
    "    [0, 0, 0, 0, 0, 0, 1, 0, 0, 0],  # 8\n",
    "    [0, 0, 0, 0, 0, 0, 1, 0, 0, 1]   # 9\n",
    "])\n",
    "Y = np.array([0, 1, 0, 1, 0, 1, 0, 1, 0, 1])\n",
    "\n",
    "# Create the perceptron and train it\n",
    "perceptron = Perceptron()\n",
    "perceptron.train(X, Y, epochs=100)\n",
    "\n",
    "# Test the perceptron on some input data\n",
    "test_X = np.array([\n",
    "    [0, 0, 0, 0, 0, 0, 1, 0, 0, 0],  # 0\n",
    "    [0, 0, 0, 0, 0, 0, 0, 1, 0, 0],  # 1\n",
    "    [0, 0, 0, 0, 0, 0, 0, 0, 1, 0],  # 2\n",
    "    [0, 0, 0, 0, 0, 0, 0, 0, 0, 1],  # 3\n",
    "    [0, 0, 0, 0, 0, 0, 1, 1, 0, 0],  # 4\n",
    "    [0, 0, 0, 0, 0, 0, 1, 0, 1, 0],  # 5\n",
    "    [0, 0, 0, 0, 0, 0, 1, 1, 1, 0],  # 6\n",
    "    [0, 0, 0, 0, 0, 0, 1, 1, 1, 1],  # 7\n",
    "    [0, 0, 0, 0, 0, 0, 1, 0, 1, 1],  # 8\n",
    "    [0, 0, 0, 0, 0, 0, 0, 1, 1, 1]   # 9\n",
    "])\n",
    "for i in range(test_X.shape[0]):\n",
    "    x = test_X[i]\n",
    "    y = perceptron.predict(x)\n",
    "    print(f'{x} is {\"even\" if y == 0 else \"odd\"}')"
   ]
  },
  {
   "cell_type": "code",
   "execution_count": null,
   "id": "6a6c689b-c613-414f-b66b-9016bfe15b18",
   "metadata": {},
   "outputs": [],
   "source": []
  }
 ],
 "metadata": {
  "kernelspec": {
   "display_name": "Python 3 (ipykernel)",
   "language": "python",
   "name": "python3"
  },
  "language_info": {
   "codemirror_mode": {
    "name": "ipython",
    "version": 3
   },
   "file_extension": ".py",
   "mimetype": "text/x-python",
   "name": "python",
   "nbconvert_exporter": "python",
   "pygments_lexer": "ipython3",
   "version": "3.12.1"
  }
 },
 "nbformat": 4,
 "nbformat_minor": 5
}
