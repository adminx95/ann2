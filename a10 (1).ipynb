{
 "cells": [
  {
   "cell_type": "code",
   "execution_count": 1,
   "id": "20226d03-cae1-4177-8860-c6f3386f06fc",
   "metadata": {},
   "outputs": [],
   "source": [
    "import numpy as np\n"
   ]
  },
  {
   "cell_type": "code",
   "execution_count": 3,
   "id": "85fb65fd-76a2-413b-b0c2-fe53d9d83cfb",
   "metadata": {},
   "outputs": [],
   "source": [
    "def sigmoid(x):\n",
    "    return 1 / (1 + np.exp(-x))"
   ]
  },
  {
   "cell_type": "code",
   "execution_count": 4,
   "id": "cc9093f2-7466-4247-a9f0-492d57e52550",
   "metadata": {},
   "outputs": [],
   "source": [
    "def sigmoid_derivative(x):\n",
    "    return x * (1 - x)"
   ]
  },
  {
   "cell_type": "code",
   "execution_count": 5,
   "id": "8df46301-9cc0-4665-abe2-683572a6a57a",
   "metadata": {},
   "outputs": [],
   "source": [
    "X = np.array([[0,0], [0,1], [1,0], [1,1]])"
   ]
  },
  {
   "cell_type": "code",
   "execution_count": 6,
   "id": "24b861e6-9b60-4ab0-84a1-9776544cc7b5",
   "metadata": {},
   "outputs": [],
   "source": [
    "y = np.array([[0], [1], [1], [0]])"
   ]
  },
  {
   "cell_type": "code",
   "execution_count": 7,
   "id": "2797e67d-f4fb-4ed8-b790-1dce9e3a1f36",
   "metadata": {},
   "outputs": [],
   "source": [
    "learning_rate = 0.1\n",
    "num_epochs = 100000"
   ]
  },
  {
   "cell_type": "code",
   "execution_count": 8,
   "id": "797019f0-f3e1-429d-b0f3-7602eb75ce1d",
   "metadata": {},
   "outputs": [],
   "source": [
    "hidden_weights = 2*np.random.random((2,2)) - 1 \n",
    "output_weights = 2*np.random.random((2,1)) - 1"
   ]
  },
  {
   "cell_type": "code",
   "execution_count": 9,
   "id": "c42c62a9-f4c5-407a-8794-9ae961dcd4c8",
   "metadata": {},
   "outputs": [],
   "source": [
    "for i in range(num_epochs):\n",
    "    hidden_layer = sigmoid(np.dot(X, hidden_weights)) \n",
    "    output_layer = sigmoid(np.dot(hidden_layer, output_weights))"
   ]
  },
  {
   "cell_type": "code",
   "execution_count": 11,
   "id": "51090b8f-b992-45d7-ab10-5608d1881277",
   "metadata": {},
   "outputs": [
    {
     "name": "stdout",
     "output_type": "stream",
     "text": [
      "Input:\n",
      "[[0 0]\n",
      " [0 1]\n",
      " [1 0]\n",
      " [1 1]]\n",
      "Output:\n",
      "[[0.40968326]\n",
      " [0.38229088]\n",
      " [0.42718565]\n",
      " [0.39803675]]\n"
     ]
    }
   ],
   "source": [
    "print(\"Input:\")\n",
    "print(X) \n",
    "print(\"Output:\") \n",
    "print(output_layer)"
   ]
  },
  {
   "cell_type": "code",
   "execution_count": null,
   "id": "4de6fc1c-c5ae-46d6-be64-16e8b6263d12",
   "metadata": {},
   "outputs": [],
   "source": []
  }
 ],
 "metadata": {
  "kernelspec": {
   "display_name": "Python 3 (ipykernel)",
   "language": "python",
   "name": "python3"
  },
  "language_info": {
   "codemirror_mode": {
    "name": "ipython",
    "version": 3
   },
   "file_extension": ".py",
   "mimetype": "text/x-python",
   "name": "python",
   "nbconvert_exporter": "python",
   "pygments_lexer": "ipython3",
   "version": "3.12.1"
  }
 },
 "nbformat": 4,
 "nbformat_minor": 5
}
