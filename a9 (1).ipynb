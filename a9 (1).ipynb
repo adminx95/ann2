{
 "cells": [
  {
   "cell_type": "code",
   "execution_count": 7,
   "id": "d2175b09-d103-4f30-83e2-90c6acef6c0a",
   "metadata": {},
   "outputs": [],
   "source": [
    "import numpy as np"
   ]
  },
  {
   "cell_type": "code",
   "execution_count": 8,
   "id": "2925e9c6-fa5e-40c5-8cc0-e6c7be229b38",
   "metadata": {},
   "outputs": [],
   "source": [
    "x1=np.array([1,1,1,-1])\n",
    "y1=np.array([1,-1])\n",
    "x2=np.array([-1,-1,1,1])\n",
    "y2=np.array([-1,1])"
   ]
  },
  {
   "cell_type": "code",
   "execution_count": 11,
   "id": "74663918-312f-4efb-bbd2-d03402bb426b",
   "metadata": {},
   "outputs": [],
   "source": [
    "W=np.outer(y1,x1)+np.outer(y2,x2)"
   ]
  },
  {
   "cell_type": "code",
   "execution_count": 10,
   "id": "fb911ad0-2521-498d-bb32-ac77f928aef1",
   "metadata": {},
   "outputs": [],
   "source": [
    "def BAM(x):\n",
    "    y=np.dot(W,x)\n",
    "    y=np.where(y>=0,1,-1)\n",
    "    return y"
   ]
  },
  {
   "cell_type": "code",
   "execution_count": 12,
   "id": "a4d59f6c-e959-435d-b445-a1fa1bb2fd5f",
   "metadata": {},
   "outputs": [],
   "source": [
    "x_test=np.array([1,-1,-1,-1])\n",
    "y_test=BAM(x_test)"
   ]
  },
  {
   "cell_type": "code",
   "execution_count": 14,
   "id": "179fc0e4-9fbb-43c4-ae2c-fd72f8c1ad44",
   "metadata": {},
   "outputs": [
    {
     "name": "stdout",
     "output_type": "stream",
     "text": [
      "input : [ 1 -1 -1 -1]\n",
      "output : [ 1 -1]\n"
     ]
    }
   ],
   "source": [
    "print(f'input : {x_test}')\n",
    "print(f'output : {y_test}')"
   ]
  },
  {
   "cell_type": "code",
   "execution_count": null,
   "id": "32f4b905-db6e-46e1-b53f-29e396a6bf68",
   "metadata": {},
   "outputs": [],
   "source": []
  },
  {
   "cell_type": "code",
   "execution_count": null,
   "id": "01373325-0962-4ab1-b5da-6d5b199d019a",
   "metadata": {},
   "outputs": [],
   "source": []
  }
 ],
 "metadata": {
  "kernelspec": {
   "display_name": "Python 3 (ipykernel)",
   "language": "python",
   "name": "python3"
  },
  "language_info": {
   "codemirror_mode": {
    "name": "ipython",
    "version": 3
   },
   "file_extension": ".py",
   "mimetype": "text/x-python",
   "name": "python",
   "nbconvert_exporter": "python",
   "pygments_lexer": "ipython3",
   "version": "3.12.1"
  }
 },
 "nbformat": 4,
 "nbformat_minor": 5
}
