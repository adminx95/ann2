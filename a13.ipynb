{
 "cells": [
  {
   "cell_type": "code",
   "execution_count": 4,
   "id": "a6c7f4f7-bef8-4cd2-b4a7-9f7735af6780",
   "metadata": {},
   "outputs": [],
   "source": [
    "import numpy as np \n",
    "class HopfieldNetwork:\n",
    "    def __init__(self, n_neurons): \n",
    "       self.n_neurons = n_neurons\n",
    "       self.weights = np.zeros((n_neurons, n_neurons))\n",
    "\n",
    "    def train(self, patterns):\n",
    "        for pattern in patterns:\n",
    "            self.weights += np.outer(pattern, pattern) \n",
    "            np.fill_diagonal(self.weights, 0)\n",
    "\n",
    "    def predict(self, pattern):\n",
    "        energy = -0.5 * ((pattern @ self.weights) @ pattern) \n",
    "        return np.sign((pattern @ self.weights) + energy)\n",
    "\n"
   ]
  },
  {
   "cell_type": "code",
   "execution_count": 5,
   "id": "d227f081-9e9b-44c5-981e-3c7808aaffd1",
   "metadata": {},
   "outputs": [],
   "source": [
    "\n",
    "patterns = np.array([\n",
    "                [1, 1, -1, -1],\n",
    "                [-1, -1, 1, 1],\n",
    "                [1, -1, 1, -1],\n",
    "                [-1, 1, -1, 1]\n",
    "                ])\n",
    "#n_neurons = 4\n"
   ]
  },
  {
   "cell_type": "code",
   "execution_count": 6,
   "id": "07e4e143-be37-4e93-8789-1d47fa16444e",
   "metadata": {},
   "outputs": [],
   "source": [
    "n_neurons = patterns.shape[1]\n",
    "\n",
    "network = HopfieldNetwork(n_neurons) \n",
    "\n",
    "network.train(patterns)\n"
   ]
  },
  {
   "cell_type": "code",
   "execution_count": 7,
   "id": "48cb2579-c852-45ec-be7b-03e76a7d08da",
   "metadata": {},
   "outputs": [
    {
     "name": "stdout",
     "output_type": "stream",
     "text": [
      "Input pattern: [ 1  1 -1 -1]\n",
      "Predicted pattern: [-1. -1. -1. -1.]\n",
      "Input pattern: [-1 -1  1  1]\n",
      "Predicted pattern: [-1. -1. -1. -1.]\n",
      "Input pattern: [ 1 -1  1 -1]\n",
      "Predicted pattern: [-1. -1. -1. -1.]\n",
      "Input pattern: [-1  1 -1  1]\n",
      "Predicted pattern: [-1. -1. -1. -1.]\n"
     ]
    }
   ],
   "source": [
    "for pattern in patterns:\n",
    "    prediction = network.predict(pattern) \n",
    "    print('Input pattern:', pattern) \n",
    "    print('Predicted pattern:', prediction)\n"
   ]
  },
  {
   "cell_type": "code",
   "execution_count": null,
   "id": "2de7727d-03e9-4786-bb3a-b1f2ca508ca2",
   "metadata": {},
   "outputs": [],
   "source": []
  }
 ],
 "metadata": {
  "kernelspec": {
   "display_name": "Python 3 (ipykernel)",
   "language": "python",
   "name": "python3"
  },
  "language_info": {
   "codemirror_mode": {
    "name": "ipython",
    "version": 3
   },
   "file_extension": ".py",
   "mimetype": "text/x-python",
   "name": "python",
   "nbconvert_exporter": "python",
   "pygments_lexer": "ipython3",
   "version": "3.12.1"
  }
 },
 "nbformat": 4,
 "nbformat_minor": 5
}
