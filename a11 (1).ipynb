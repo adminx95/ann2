{
 "cells": [
  {
   "cell_type": "code",
   "execution_count": 2,
   "id": "fa6875a1-2c36-42f5-8570-bf7bfc908fd3",
   "metadata": {},
   "outputs": [],
   "source": [
    "import numpy as np"
   ]
  },
  {
   "cell_type": "code",
   "execution_count": 3,
   "id": "4f13adb4-6428-4669-80f8-fa193df1b9bc",
   "metadata": {},
   "outputs": [],
   "source": [
    "def sigmoid(x):\n",
    "    return 1 / (1 + np.exp(-x))"
   ]
  },
  {
   "cell_type": "code",
   "execution_count": 4,
   "id": "6248ab50-9bcd-4c7b-9672-16d576b65d43",
   "metadata": {},
   "outputs": [],
   "source": [
    "def sigmoid_derivative(x):\n",
    "    return x * (1 - x)"
   ]
  },
  {
   "cell_type": "code",
   "execution_count": 5,
   "id": "28208018-8989-4a46-a6db-0dafef9ac06f",
   "metadata": {},
   "outputs": [],
   "source": [
    "X = np.array([[0,0], [0,1], [1,0], [1,1]])\n",
    "y = np.array([[0], [1], [1], [0]])"
   ]
  },
  {
   "cell_type": "code",
   "execution_count": 6,
   "id": "df5c0c62-7828-45d5-a3db-a4b14fa35400",
   "metadata": {},
   "outputs": [],
   "source": [
    "learning_rate = 0.1\n",
    "num_epochs = 100000"
   ]
  },
  {
   "cell_type": "code",
   "execution_count": 7,
   "id": "c7deb270-efdc-4a21-9550-93bf56f6d975",
   "metadata": {},
   "outputs": [],
   "source": [
    "hidden_weights = 2*np.random.random((2,2)) - 1 \n",
    "output_weights = 2*np.random.random((2,1)) - 1"
   ]
  },
  {
   "cell_type": "code",
   "execution_count": 10,
   "id": "e50975a8-3e87-483a-b861-b66a3fef2b52",
   "metadata": {},
   "outputs": [],
   "source": [
    "for i in range(num_epochs):\n",
    "    hidden_layer = sigmoid(np.dot(X, hidden_weights)) \n",
    "    output_layer = sigmoid(np.dot(hidden_layer, output_weights))\n",
    "    output_error = y - output_layer\n",
    "    output_delta = output_error * sigmoid_derivative(output_layer)\n",
    "    hidden_error = output_delta.dot(output_weights.T)\n",
    "    hidden_delta = hidden_error * sigmoid_derivative(hidden_layer)"
   ]
  },
  {
   "cell_type": "code",
   "execution_count": 11,
   "id": "808b77be-fa7d-4b2e-9bbe-3d1115ac8ce4",
   "metadata": {},
   "outputs": [
    {
     "name": "stdout",
     "output_type": "stream",
     "text": [
      "Input:\n",
      "[[0 0]\n",
      " [0 1]\n",
      " [1 0]\n",
      " [1 1]]\n",
      "Output:\n",
      "[[0.53148126]\n",
      " [0.56933994]\n",
      " [0.4867006 ]\n",
      " [0.52370505]]\n"
     ]
    }
   ],
   "source": [
    "print(\"Input:\")\n",
    "print(X) \n",
    "print(\"Output:\") \n",
    "print(output_layer)"
   ]
  },
  {
   "cell_type": "code",
   "execution_count": null,
   "id": "ed9b99ed-c983-4d04-86e9-a80f095ffa65",
   "metadata": {},
   "outputs": [],
   "source": []
  }
 ],
 "metadata": {
  "kernelspec": {
   "display_name": "Python 3 (ipykernel)",
   "language": "python",
   "name": "python3"
  },
  "language_info": {
   "codemirror_mode": {
    "name": "ipython",
    "version": 3
   },
   "file_extension": ".py",
   "mimetype": "text/x-python",
   "name": "python",
   "nbconvert_exporter": "python",
   "pygments_lexer": "ipython3",
   "version": "3.12.1"
  }
 },
 "nbformat": 4,
 "nbformat_minor": 5
}
