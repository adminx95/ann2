{
 "cells": [
  {
   "cell_type": "markdown",
   "id": "61317a02-e0e4-4065-9e27-3bec89c0dce2",
   "metadata": {},
   "source": [
    "#Implement Artificial Neural Network training process in Python by using forward propagation,\r\n",
    "#backpropagation."
   ]
  },
  {
   "cell_type": "code",
   "execution_count": 1,
   "id": "1c2a7020-b4f8-46e8-bed7-6c77882af85d",
   "metadata": {},
   "outputs": [],
   "source": [
    "import numpy as np "
   ]
  },
  {
   "cell_type": "code",
   "execution_count": 2,
   "id": "a911fd05-153d-4403-9522-64c0005199d0",
   "metadata": {},
   "outputs": [],
   "source": [
    "class NeuralNetwork:\n",
    "    def __init__(self, input_size, hidden_size, output_size): \n",
    "        self.W1 = np.random.randn(input_size, hidden_size) \n",
    "        self.b1 = np.zeros(hidden_size)\n",
    "        self.W2 = np.random.randn(hidden_size, output_size) \n",
    "        self.b2 = np.zeros(output_size)\n",
    " \n",
    "    def sigmoid(self, x):\n",
    "        return 1 / (1 + np.exp(-x))\n",
    "\n",
    "    def sigmoid_derivative(self, x): \n",
    "        return x * (1 - x)\n",
    "\n",
    "    def forward(self, X): \n",
    "        self.z1 = X @ self.W1 + self.b1 \n",
    "        self.a1 = self.sigmoid(self.z1)\n",
    "        self.z2 = self.a1 @ self.W2 + self.b2 \n",
    "        self.a2 = self.sigmoid(self.z2)\n",
    "        return self.a2\n",
    "\n",
    "    def backward(self, X, y, output): \n",
    "        self.output_error = y - output\n",
    "        self.output_delta = self.output_error * self.sigmoid_derivative(output) \n",
    "        self.hidden_error = self.output_delta @ self.W2.T\n",
    "        self.hidden_delta = self.hidden_error * self.sigmoid_derivative(self.a1) \n",
    "        self.W1 += X.T @ self.hidden_delta\n",
    "        self.b1 += np.sum(self.hidden_delta, axis=0)\n",
    "        self.W2 += self.a1.T @ self.output_delta\n",
    "        self.b2 += np.sum(self.output_delta, axis=0) \n",
    "        \n",
    "    def train(self, X, y, epochs): \n",
    "        for i in range(epochs):\n",
    "            output = self.forward(X)\n",
    "            self.backward(X, y, output) \n",
    "\n",
    "    def predict(self, X):\n",
    "        # Make predictions for a given set of inputs \n",
    "        return self.forward(X)"
   ]
  },
  {
   "cell_type": "code",
   "execution_count": 3,
   "id": "b7b5ea26-fcf6-4444-b513-999789576418",
   "metadata": {},
   "outputs": [],
   "source": [
    "X = np.array([[0, 0], [0, 1], [1, 0], [1, 1]])\n",
    "y = np.array([[0], [1], [1], [0]])"
   ]
  },
  {
   "cell_type": "code",
   "execution_count": 4,
   "id": "4737ce00-1fda-4d52-adb0-a0e252cb33fc",
   "metadata": {},
   "outputs": [],
   "source": [
    "nn = NeuralNetwork(2, 4, 1)"
   ]
  },
  {
   "cell_type": "code",
   "execution_count": 5,
   "id": "2958f258-3a63-4c40-97bc-bf579274aae5",
   "metadata": {},
   "outputs": [],
   "source": [
    "nn.train(X, y, epochs=10000)"
   ]
  },
  {
   "cell_type": "code",
   "execution_count": 6,
   "id": "4d708f02-c952-4493-a7b9-98cf42612f53",
   "metadata": {},
   "outputs": [],
   "source": [
    "predictions = nn.predict(X)"
   ]
  },
  {
   "cell_type": "code",
   "execution_count": 8,
   "id": "a65418a5-f975-4f93-abad-0464793d5ecb",
   "metadata": {},
   "outputs": [
    {
     "data": {
      "text/plain": [
       "array([[0.00598778],\n",
       "       [0.9879981 ],\n",
       "       [0.98947636],\n",
       "       [0.01388031]])"
      ]
     },
     "execution_count": 8,
     "metadata": {},
     "output_type": "execute_result"
    }
   ],
   "source": [
    "predictions"
   ]
  },
  {
   "cell_type": "code",
   "execution_count": null,
   "id": "d75507a9-2068-4e59-99b0-b1611bf5019d",
   "metadata": {},
   "outputs": [],
   "source": []
  }
 ],
 "metadata": {
  "kernelspec": {
   "display_name": "Python 3 (ipykernel)",
   "language": "python",
   "name": "python3"
  },
  "language_info": {
   "codemirror_mode": {
    "name": "ipython",
    "version": 3
   },
   "file_extension": ".py",
   "mimetype": "text/x-python",
   "name": "python",
   "nbconvert_exporter": "python",
   "pygments_lexer": "ipython3",
   "version": "3.12.1"
  }
 },
 "nbformat": 4,
 "nbformat_minor": 5
}
