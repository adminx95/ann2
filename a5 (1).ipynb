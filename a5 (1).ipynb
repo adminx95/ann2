{
 "cells": [
  {
   "cell_type": "code",
   "execution_count": 9,
   "id": "83dc8f1c-666b-4787-809b-240055da0144",
   "metadata": {},
   "outputs": [],
   "source": [
    "import numpy as np"
   ]
  },
  {
   "cell_type": "code",
   "execution_count": 10,
   "id": "bc660885-6d31-4eff-af12-bb3111b49028",
   "metadata": {},
   "outputs": [],
   "source": [
    "def threshold_input(dot,T):\n",
    "    if dot>=T:\n",
    "        return 1\n",
    "    else :\n",
    "        return 0"
   ]
  },
  {
   "cell_type": "code",
   "execution_count": 11,
   "id": "4c31834e-6835-436e-85e8-0df9103a47dc",
   "metadata": {},
   "outputs": [],
   "source": [
    "input_table=np.array([\n",
    "    [0,0],\n",
    "    [0,1],\n",
    "    [1,0],\n",
    "    [1,1]\n",
    "])"
   ]
  },
  {
   "cell_type": "code",
   "execution_count": 12,
   "id": "47809968-1a34-4c6c-aa27-c2793b9e6b7e",
   "metadata": {},
   "outputs": [
    {
     "name": "stdout",
     "output_type": "stream",
     "text": [
      "input_table: \n",
      "[[0 0]\n",
      " [0 1]\n",
      " [1 0]\n",
      " [1 1]]\n"
     ]
    }
   ],
   "source": [
    "print(f'input_table: \\n{input_table}')"
   ]
  },
  {
   "cell_type": "code",
   "execution_count": 13,
   "id": "d6e12c56-f91f-4d62-88b9-ab72bab5ce45",
   "metadata": {},
   "outputs": [],
   "source": [
    "weigths = np.array([1,-1])"
   ]
  },
  {
   "cell_type": "code",
   "execution_count": 14,
   "id": "3e7b7b30-794e-465f-8ba1-7e0a7230f826",
   "metadata": {},
   "outputs": [],
   "source": [
    "dot_product= input_table @ weigths"
   ]
  },
  {
   "cell_type": "code",
   "execution_count": 25,
   "id": "d42f9ff0-fcbb-4168-bc6c-d5998e028285",
   "metadata": {},
   "outputs": [
    {
     "name": "stdout",
     "output_type": "stream",
     "text": [
      "activation: \n",
      "0\n",
      "activation: \n",
      "0\n",
      "activation: \n",
      "1\n",
      "activation: \n",
      "0\n"
     ]
    }
   ],
   "source": [
    "T=1\n",
    "for i in range (0,4):\n",
    "    activation = threshold_input(dot_product[i],T)\n",
    "    print (f'activation: \\n{activation}')"
   ]
  },
  {
   "cell_type": "code",
   "execution_count": null,
   "id": "d6aa9b1f-6d43-4dd4-8b38-965875bf9451",
   "metadata": {},
   "outputs": [],
   "source": []
  }
 ],
 "metadata": {
  "kernelspec": {
   "display_name": "Python 3 (ipykernel)",
   "language": "python",
   "name": "python3"
  },
  "language_info": {
   "codemirror_mode": {
    "name": "ipython",
    "version": 3
   },
   "file_extension": ".py",
   "mimetype": "text/x-python",
   "name": "python",
   "nbconvert_exporter": "python",
   "pygments_lexer": "ipython3",
   "version": "3.12.1"
  }
 },
 "nbformat": 4,
 "nbformat_minor": 5
}
